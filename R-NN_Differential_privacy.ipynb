{
 "cells": [
  {
   "cell_type": "code",
   "execution_count": 14,
   "metadata": {},
   "outputs": [],
   "source": [
    "import pandas as pd\n",
    "from sklearn import preprocessing,model_selection,neighbors\n",
    "import numpy as np\n",
    "import matplotlib.pyplot as plt"
   ]
  },
  {
   "cell_type": "code",
   "execution_count": 15,
   "metadata": {},
   "outputs": [],
   "source": [
    "df = pd.read_csv('D:\\\\anubhav\\\\Codes\\\\Titanic_train.csv')\n"
   ]
  },
  {
   "cell_type": "code",
   "execution_count": 16,
   "metadata": {},
   "outputs": [],
   "source": [
    "df.drop(['PassengerId','Name','Ticket','Cabin'],1,inplace=True)\n"
   ]
  },
  {
   "cell_type": "code",
   "execution_count": 17,
   "metadata": {},
   "outputs": [],
   "source": [
    "df['Age'].fillna(df['Age'].mean(),inplace=True)"
   ]
  },
  {
   "cell_type": "code",
   "execution_count": 18,
   "metadata": {},
   "outputs": [],
   "source": [
    "df['Embarked'].fillna('S',inplace=True)"
   ]
  },
  {
   "cell_type": "code",
   "execution_count": 19,
   "metadata": {},
   "outputs": [],
   "source": [
    "df['Sex']=df['Sex'].replace({\"male\":100.0,\n",
    "\t\"female\":-100.0})"
   ]
  },
  {
   "cell_type": "code",
   "execution_count": 20,
   "metadata": {},
   "outputs": [],
   "source": [
    "df['Embarked']=df['Embarked'].replace({\"S\":100.0,\n",
    "\t\"C\":200.0,\n",
    "\t\"Q\":300.0})"
   ]
  },
  {
   "cell_type": "code",
   "execution_count": 21,
   "metadata": {},
   "outputs": [
    {
     "name": "stdout",
     "output_type": "stream",
     "text": [
      "   Survived  Pclass    Sex   Age  SibSp  Parch     Fare  Embarked\n",
      "0         0       3  100.0  22.0      1      0   7.2500     100.0\n",
      "1         1       1 -100.0  38.0      1      0  71.2833     200.0\n",
      "2         1       3 -100.0  26.0      0      0   7.9250     100.0\n",
      "3         1       1 -100.0  35.0      1      0  53.1000     100.0\n",
      "4         0       3  100.0  35.0      0      0   8.0500     100.0\n"
     ]
    }
   ],
   "source": [
    "print(df.head())"
   ]
  },
  {
   "cell_type": "code",
   "execution_count": 22,
   "metadata": {},
   "outputs": [
    {
     "name": "stdout",
     "output_type": "stream",
     "text": [
      "   Survived  Pclass    Sex   Age  SibSp  Parch     Fare  Embarked\n",
      "0         0       3  100.0  22.0      1      0   7.2500     100.0\n",
      "1         1       1 -100.0  38.0      1      0  71.2833     200.0\n",
      "2         1       3 -100.0  26.0      0      0   7.9250     100.0\n",
      "3         1       1 -100.0  35.0      1      0  53.1000     100.0\n",
      "4         0       3  100.0  35.0      0      0   8.0500     100.0\n"
     ]
    }
   ],
   "source": [
    "X_train=np.array(df.drop(['Survived'],1))\n",
    "y_train=np.array(df[['Survived']])\n",
    "print(df.head())"
   ]
  },
  {
   "cell_type": "code",
   "execution_count": 23,
   "metadata": {},
   "outputs": [
    {
     "name": "stdout",
     "output_type": "stream",
     "text": [
      "891\n"
     ]
    }
   ],
   "source": [
    "X_train = (X_train - X_train.mean(axis = 0))/X_train.std(axis = 0)\n",
    "X_test = (X_test - X_train.mean(axis = 0))/X_train.std(axis = 0)\n",
    "print(len(X_train))\n",
    "X_train_set,X_test_set,y_train_set,y_test_set=model_selection.train_test_split(X_train,y_train,test_size=0.2)"
   ]
  },
  {
   "cell_type": "code",
   "execution_count": null,
   "metadata": {},
   "outputs": [],
   "source": []
  },
  {
   "cell_type": "code",
   "execution_count": null,
   "metadata": {},
   "outputs": [],
   "source": []
  },
  {
   "cell_type": "code",
   "execution_count": 2,
   "metadata": {},
   "outputs": [],
   "source": []
  },
  {
   "cell_type": "code",
   "execution_count": 3,
   "metadata": {},
   "outputs": [],
   "source": []
  },
  {
   "cell_type": "code",
   "execution_count": 4,
   "metadata": {},
   "outputs": [],
   "source": []
  },
  {
   "cell_type": "code",
   "execution_count": 5,
   "metadata": {},
   "outputs": [],
   "source": []
  },
  {
   "cell_type": "code",
   "execution_count": 6,
   "metadata": {},
   "outputs": [],
   "source": []
  },
  {
   "cell_type": "code",
   "execution_count": 7,
   "metadata": {},
   "outputs": [],
   "source": []
  },
  {
   "cell_type": "code",
   "execution_count": 8,
   "metadata": {},
   "outputs": [
    {
     "name": "stdout",
     "output_type": "stream",
     "text": [
      "   Survived  Pclass    Sex   Age  SibSp  Parch     Fare  Embarked\n",
      "0         0       3  100.0  22.0      1      0   7.2500     100.0\n",
      "1         1       1 -100.0  38.0      1      0  71.2833     200.0\n",
      "2         1       3 -100.0  26.0      0      0   7.9250     100.0\n",
      "3         1       1 -100.0  35.0      1      0  53.1000     100.0\n",
      "4         0       3  100.0  35.0      0      0   8.0500     100.0\n"
     ]
    }
   ],
   "source": []
  },
  {
   "cell_type": "code",
   "execution_count": 9,
   "metadata": {},
   "outputs": [
    {
     "name": "stdout",
     "output_type": "stream",
     "text": [
      "   Survived  Pclass    Sex   Age  SibSp  Parch     Fare  Embarked\n",
      "0         0       3  100.0  22.0      1      0   7.2500     100.0\n",
      "1         1       1 -100.0  38.0      1      0  71.2833     200.0\n",
      "2         1       3 -100.0  26.0      0      0   7.9250     100.0\n",
      "3         1       1 -100.0  35.0      1      0  53.1000     100.0\n",
      "4         0       3  100.0  35.0      0      0   8.0500     100.0\n"
     ]
    }
   ],
   "source": []
  },
  {
   "cell_type": "code",
   "execution_count": 10,
   "metadata": {},
   "outputs": [
    {
     "name": "stdout",
     "output_type": "stream",
     "text": [
      "891\n"
     ]
    }
   ],
   "source": []
  },
  {
   "cell_type": "code",
   "execution_count": 11,
   "metadata": {},
   "outputs": [
    {
     "name": "stdout",
     "output_type": "stream",
     "text": [
      "[[ 0.82737724  0.73769513 -0.5924806   0.43279337 -0.47367361 -0.50244517\n",
      "  -0.56883712]\n",
      " [-1.56610693 -1.35557354  0.63878901  0.43279337 -0.47367361  0.78684529\n",
      "   1.00518113]\n",
      " [ 0.82737724 -1.35557354 -0.2846632  -0.4745452  -0.47367361 -0.48885426\n",
      "  -0.56883712]\n",
      " [-1.56610693 -1.35557354  0.40792596  0.43279337 -0.47367361  0.42073024\n",
      "  -0.56883712]\n",
      " [ 0.82737724  0.73769513  0.40792596 -0.4745452  -0.47367361 -0.48633742\n",
      "  -0.56883712]\n",
      " [ 0.82737724  0.73769513  0.         -0.4745452  -0.47367361 -0.47811643\n",
      "   2.57919938]\n",
      " [-1.56610693  0.73769513  1.87005862 -0.4745452  -0.47367361  0.39581356\n",
      "  -0.56883712]\n",
      " [ 0.82737724  0.73769513 -2.13156761  2.24747049  0.76762988 -0.22408312\n",
      "  -0.56883712]\n",
      " [ 0.82737724 -1.35557354 -0.20770885 -0.4745452   2.00893337 -0.42425614\n",
      "  -0.56883712]\n",
      " [-0.36936484 -1.35557354 -1.20811541  0.43279337 -0.47367361 -0.0429555\n",
      "   1.00518113]]\n"
     ]
    }
   ],
   "source": [
    "print(X_train[:10])"
   ]
  },
  {
   "cell_type": "code",
   "execution_count": 12,
   "metadata": {},
   "outputs": [
    {
     "name": "stdout",
     "output_type": "stream",
     "text": [
      "418\n"
     ]
    }
   ],
   "source": [
    "print(len(X_test))\n"
   ]
  },
  {
   "cell_type": "code",
   "execution_count": null,
   "metadata": {},
   "outputs": [],
   "source": []
  }
 ],
 "metadata": {
  "kernelspec": {
   "display_name": "Python 3",
   "language": "python",
   "name": "python3"
  },
  "language_info": {
   "codemirror_mode": {
    "name": "ipython",
    "version": 3
   },
   "file_extension": ".py",
   "mimetype": "text/x-python",
   "name": "python",
   "nbconvert_exporter": "python",
   "pygments_lexer": "ipython3",
   "version": "3.6.6rc1"
  }
 },
 "nbformat": 4,
 "nbformat_minor": 2
}
